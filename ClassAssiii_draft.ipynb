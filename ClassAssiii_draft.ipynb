{
 "cells": [
  {
   "cell_type": "code",
   "execution_count": 4,
   "id": "aa38d8fa-7dc8-4162-a505-ced2e1b8c9f6",
   "metadata": {},
   "outputs": [
    {
     "name": "stdout",
     "output_type": "stream",
     "text": [
      "ba\n",
      "None\n",
      "x\n",
      "ab\n",
      "None\n"
     ]
    }
   ],
   "source": [
    "# (50%). Please write a function that takes a non-empty string as input and returns a new string \n",
    "# containing the first and second repeated characters that appear in the input string. \n",
    "# These two characters should be different, and the first repeated character must \n",
    "# appear before the second repeated character in the returned string. \n",
    "# If there are no repeated characters in the input string, the function returns None; \n",
    "# if there is only one repeated character, the function returns a string containing only this character. \n",
    "# In addition to the function, please write some codes to test your function.\n",
    "\n",
    "# For example,\n",
    "# If the input string is 'abcbda', the function should return 'ba'.\n",
    "# If the input string is 'abc', the function should return None.\n",
    "# If the input string is 'xyxx', the function should return 'x'.\n",
    "\n",
    "\n",
    "# establish variables, lists, and sets\n",
    "def repeat_chars(s):  \n",
    "    seen = set()  \n",
    "    repeated = []  \n",
    " # design a loop that will test for repeated characters   \n",
    "    for char in s:  \n",
    "        if char in seen:  \n",
    "            if char not in repeated: \n",
    "                repeated.append(char)  \n",
    "            if len(repeated) > 1:  \n",
    "                break  \n",
    "        seen.add(char) \n",
    " # output   \n",
    "    if not repeated:  \n",
    "        return None  \n",
    "    return \"\".join(repeated)  \n",
    "\n",
    "# Test cases\n",
    "print(repeat_chars('abcbda')) \n",
    "print(repeat_chars('abc'))    \n",
    "print(repeat_chars('xyxx'))   \n",
    "print(repeat_chars('aabbcc')) \n",
    "print(repeat_chars('abcdef')) \n"
   ]
  },
  {
   "cell_type": "code",
   "execution_count": 15,
   "id": "fc003826-2134-46a4-b685-5fff1f50df9e",
   "metadata": {},
   "outputs": [
    {
     "name": "stdout",
     "output_type": "stream",
     "text": [
      "True\n",
      "True\n",
      "True\n",
      "False\n",
      "False\n",
      "False\n",
      "True\n",
      "False\n",
      "False\n",
      "True\n",
      "True\n"
     ]
    }
   ],
   "source": [
    "# (50%). Please write a function that takes a non-empty string, my_str, as input. \n",
    "# This string consists of only the following characters: '[', ']', '(', and ')'. \n",
    "# The function checks whether the string satisfies the following conditions: \n",
    "# (1) each left bracket is closed by a right bracket with the same type \n",
    "# (2) each pair of left-right brackets appear in the correct order. \n",
    "# If the string satisfies these two conditions, the function returns True, otherwise False. \n",
    "# In addition to the function, please write some codes to test your function.\n",
    "\n",
    "# For example,\n",
    "# If my_str = '[]', the function should return True.\n",
    "# If my_str = '[]()', the function should return True.\n",
    "# If my_str = '()[]()', the function should return True.\n",
    "# If my_str = ')(', the function should return False.\n",
    "# If my_str = '[)', the function should return False.\n",
    "# If my_str = '[(])', the function should return False.\n",
    "# If my_str = '()([)]', the function should return False.\n",
    "# If my_str = '[()]', the function should return True.\n",
    "# If my_str = '[([])]', the function should return True.\n",
    "\n",
    "# establish variables, lists, and dictionary\n",
    "def valid_seq(my_str):\n",
    "    stack = []\n",
    "    bracket_map = {')':'(', ']':'['}\n",
    "# create a loop to test if the designated variables are valid or not\n",
    "    for char in my_str:\n",
    "        if char in bracket_map.values():\n",
    "            stack.append(char)\n",
    "        elif char in bracket_map:  \n",
    "            if not stack or stack[-1] != bracket_map[char]:\n",
    "                return False  \n",
    "            stack.pop()  \n",
    "# output  \n",
    "    return not stack  \n",
    "# Test cases\n",
    "print(valid_seq(\"[]\"))  \n",
    "print(valid_seq(\"[]()\"))  \n",
    "print(valid_seq(\"()[]()\"))  \n",
    "print(valid_seq(\")(\"))  \n",
    "print(valid_seq(\"[)\")) \n",
    "print(valid_seq(\"((())\"))\n",
    "print(valid_seq(\"((()))\"))\n",
    "print(valid_seq(\"[(])\"))  \n",
    "print(valid_seq(\"()([)]\"))  \n",
    "print(valid_seq(\"[()]\"))  \n",
    "print(valid_seq(\"[([])]\"))  \n",
    "\n",
    "\n",
    "        \n",
    "\n"
   ]
  },
  {
   "cell_type": "code",
   "execution_count": null,
   "id": "8343acb6-dfc4-43b5-b1c6-7ec55ca33271",
   "metadata": {},
   "outputs": [],
   "source": []
  }
 ],
 "metadata": {
  "kernelspec": {
   "display_name": "Python 3 (ipykernel)",
   "language": "python",
   "name": "python3"
  },
  "language_info": {
   "codemirror_mode": {
    "name": "ipython",
    "version": 3
   },
   "file_extension": ".py",
   "mimetype": "text/x-python",
   "name": "python",
   "nbconvert_exporter": "python",
   "pygments_lexer": "ipython3",
   "version": "3.12.7"
  }
 },
 "nbformat": 4,
 "nbformat_minor": 5
}
