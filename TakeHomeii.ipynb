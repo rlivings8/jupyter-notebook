{
 "cells": [
  {
   "cell_type": "code",
   "execution_count": 2,
   "id": "8ca79ea8-6eed-4f91-8908-6d3e73efabf8",
   "metadata": {},
   "outputs": [
    {
     "name": "stdout",
     "output_type": "stream",
     "text": [
      "('a', 0)\n",
      "('a*b', 1)\n",
      "('dfsab', 2)\n",
      "('Aab', 1)\n",
      "('986271', 6)\n"
     ]
    }
   ],
   "source": [
    "# P1 (30%). Please write a function that takes a non-empty string, e.g., my_str, as the \n",
    "# input parameter. The function needs to find a substring, sub_str, in the my_str such \n",
    "# that (1) sub_str does not have repeating characters and (2) the length of sub_str is \n",
    "# maximum. The function needs to return sub_str and its index (i.e., the index of the \n",
    "# first character of sub_str in the original string). If sub_str is not unique, the function \n",
    "# returns the first sub_str (i.e., the substring of which the first character has lowest \n",
    "# index) and its index. For example,\n",
    "\n",
    "# • If my_str = 'aaa', then the function should return ('a', 0), because sub_str\n",
    "#   would be 'a', of which the index is 0. \n",
    "# • If my_str = 'aa*b', then the function should return ('a*b', 1), because sub_str\n",
    "#   would be 'a*b', of which the index is 1. \n",
    "# • If my_str = 'asdfsab', then the function should return ('dfsab', 2), because \n",
    "#   sub_str would be 'dfsab', of which the index is 2.\n",
    "# • If my_str = 'aAab', then the function should return ('Aab', 1), because sub_str\n",
    "#   would be 'Aab', of which the index is 1.\n",
    "# • If my_str = '0132329862719', then the function should return ('986271', 6), \n",
    "#   because sub_str would be '986271', of which the index is 6. \n",
    "# • Note that uppercase and lowercase letters are considered different letters, e.g., \n",
    "#   'A' and 'a' are two different characters.\n",
    "# • In addition to the function, please write some codes to test your function.\n",
    "\n",
    "# write a function that takes a non-empty string.\n",
    "def unique_substr(my_str):\n",
    "    # Initialize variables to track the longest substring\n",
    "    longest_substr = \"\"\n",
    "    longest_index = 0\n",
    "\n",
    "    # find substring within my_str with all unique characters & length is max\n",
    "    for i in range(len(my_str)):  # Start from each character in the string\n",
    "        seen_chars = set()  # To keep track of unique characters\n",
    "        current_substr = \"\"\n",
    "        \n",
    "        for j in range(i, len(my_str)):  # Build substrings from index i\n",
    "            if my_str[j] in seen_chars:\n",
    "                break  # Stop if a duplicate character is found\n",
    "            seen_chars.add(my_str[j])\n",
    "            current_substr += my_str[j]\n",
    "\n",
    "        # Update the longest substring if the current one is longer\n",
    "        if len(current_substr) > len(longest_substr):\n",
    "            longest_substr = current_substr\n",
    "            longest_index = i  # Store the starting index\n",
    "\n",
    "    return (longest_substr, longest_index)\n",
    "\n",
    "# Example test cases\n",
    "print(unique_substr(\"aaa\"))       \n",
    "print(unique_substr(\"aa*b\"))      \n",
    "print(unique_substr(\"asdfsab\"))   \n",
    "print(unique_substr(\"aAab\"))      \n",
    "print(unique_substr(\"0132329862719\"))  \n",
    "    "
   ]
  },
  {
   "cell_type": "code",
   "execution_count": 5,
   "id": "84a5c9fe-3b50-4cdd-a906-8164a295afa4",
   "metadata": {},
   "outputs": [
    {
     "name": "stdout",
     "output_type": "stream",
     "text": [
      "2\n",
      "5\n",
      "8\n",
      "13\n"
     ]
    }
   ],
   "source": [
    "# P2 (35%). Suppose a robot moves from the origin to a position that has a distance, \n",
    "# x units (a positive integer), from the origin. Each time the robot can move only 1 or 2 \n",
    "# units. Please write a function to return in how many different ways the robot can move \n",
    "# to the position. The distance, x, is provided during runtime. For example,\n",
    "# • If x = 2, then your function should return 2, because there are 2 different ways: \n",
    "#   (1) 1 + 1 and (2) 2 \n",
    "# • If x = 4, then your function should return 5, because there are 5 different ways: \n",
    "#   (1) 1 + 1 + 1 + 1, (2) 1 + 1 + 2, (3) 1 + 2+ 1, (4) 2 + 1 + 1, and (5) 2 + 2\n",
    "# • In addition to the function, please write some codes to test your function.\n",
    "\n",
    "\n",
    "# write a function\n",
    "def robot_route(x):\n",
    "    # set up a recursive function\n",
    "    if x == 1: \n",
    "        return 1\n",
    "    elif x == 2:\n",
    "        return 2\n",
    "    return robot_route(x - 1) + robot_route(x - 2)\n",
    "\n",
    "# Test cases\n",
    "print(robot_route(2))  \n",
    "print(robot_route(4)) \n",
    "print(robot_route(5)) \n",
    "print(robot_route(6)) \n"
   ]
  },
  {
   "cell_type": "code",
   "execution_count": 9,
   "id": "552ad63f-a552-43b0-bf50-07e76ac27cbd",
   "metadata": {},
   "outputs": [
    {
     "name": "stdout",
     "output_type": "stream",
     "text": [
      "xa\n",
      "xyx\n",
      "x\n",
      "x\n",
      "z\n",
      "a\n",
      "a\n"
     ]
    }
   ],
   "source": [
    "# P3 (35%). Please write a function that takes a non-empty string as input (assume the \n",
    "# string is called my_str). For this question, the string consists of only English letters, \n",
    "# and there is no difference between uppercase and lowercase letters, e.g., 'A' and 'a' \n",
    "# are considered the same. The function repeatedly deletes two adjacent and identical \n",
    "# letters. The function returns the final string after the deletion (the letters in the\n",
    "# returned final string can be all lowercase). For example, \n",
    "# • If my_str = 'xyzzya', the function should return 'xa'. \n",
    "# • If my_str = 'xyx', the function should return 'xyx'.\n",
    "# • If my_str = 'xxx', the function should return 'x'. \n",
    "# • If my_str = 'xXx', the function should return 'x'. \n",
    "# • If my_str = 'xxxYyxZ', the function should return 'z'.\n",
    "# • In addition to the function, please write some codes to test your function\n",
    "\n",
    "# write a function\n",
    "def english_letters(my_str):\n",
    "    my_str = my_str.lower()  # Convert input to lowercase\n",
    "    stack = []  # Use a stack to store characters\n",
    "    \n",
    "    for char in my_str:\n",
    "        if stack and stack[-1] == char:  \n",
    "            stack.pop()  # Remove the last character if it's identical to the current one\n",
    "        else:\n",
    "            stack.append(char)  # Otherwise, add the character to the stack\n",
    "    \n",
    "    return \"\".join(stack)  # Convert stack to string and return\n",
    "\n",
    "# Test cases\n",
    "print(english_letters(\"xyzzya\"))  \n",
    "print(english_letters(\"xyx\"))     \n",
    "print(english_letters(\"xxx\"))     \n",
    "print(english_letters(\"xXx\"))     \n",
    "print(english_letters(\"xxxYyxZ\")) \n",
    "print(english_letters(\"aabccba\")) \n",
    "print(english_letters(\"tvttvvvta\"))\n"
   ]
  },
  {
   "cell_type": "code",
   "execution_count": null,
   "id": "24dc2f6f-4ae1-43ad-860c-3facc8c14270",
   "metadata": {},
   "outputs": [],
   "source": []
  }
 ],
 "metadata": {
  "kernelspec": {
   "display_name": "Python 3 (ipykernel)",
   "language": "python",
   "name": "python3"
  },
  "language_info": {
   "codemirror_mode": {
    "name": "ipython",
    "version": 3
   },
   "file_extension": ".py",
   "mimetype": "text/x-python",
   "name": "python",
   "nbconvert_exporter": "python",
   "pygments_lexer": "ipython3",
   "version": "3.12.7"
  }
 },
 "nbformat": 4,
 "nbformat_minor": 5
}
