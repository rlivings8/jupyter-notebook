{
 "cells": [
  {
   "cell_type": "code",
   "execution_count": 4,
   "id": "8226a048-4df0-4b63-ac7c-66b6fe9d7ed2",
   "metadata": {},
   "outputs": [
    {
     "name": "stdin",
     "output_type": "stream",
     "text": [
      "Hours:  2\n",
      "Minutes:  0\n",
      "Seconds 100\n"
     ]
    },
    {
     "name": "stdout",
     "output_type": "stream",
     "text": [
      "15:37:38\n"
     ]
    }
   ],
   "source": [
    "# Problem 1:\n",
    "# movie runtime\n",
    "r_hours = int(input(\"Hours: \"))\n",
    "r_minutes = int(input(\"Minutes: \"))\n",
    "r_seconds = int(input(\"Seconds\"))\n",
    "\n",
    "    # movie start time\n",
    "s_hours = 13\n",
    "s_minutes = 35\n",
    "s_seconds = 58\n",
    "\n",
    "    # movie end time\n",
    "e_hours = s_hours + r_hours\n",
    "e_minutes = s_minutes + r_minutes\n",
    "e_seconds = s_seconds + r_seconds\n",
    "\n",
    "    # overflow seconds\n",
    "e_minutes += e_seconds // 60\n",
    "e_seconds = e_seconds % 60\n",
    "    #overflow minutes\n",
    "e_hours += e_minutes // 60\n",
    "e_minutes = e_minutes % 60\n",
    "\n",
    "# print final movie time\n",
    "print(str(e_hours).zfill(2) + ':' + str(e_minutes).zfill(2) + ':' + str(e_seconds).zfill(2))\n",
    "            \n",
    "            "
   ]
  },
  {
   "cell_type": "code",
   "execution_count": 1,
   "id": "0238e63d-68d7-46ca-908e-a4d536b3d77d",
   "metadata": {},
   "outputs": [
    {
     "name": "stdin",
     "output_type": "stream",
     "text": [
      "Rows:  8\n",
      "Columns:  9\n"
     ]
    },
    {
     "name": "stdout",
     "output_type": "stream",
     "text": [
      "+ - - - - - - - +\n",
      "|               |\n",
      "|               |\n",
      "|               |\n",
      "|               |\n",
      "|               |\n",
      "|               |\n",
      "+ - - - - - - - +\n"
     ]
    }
   ],
   "source": [
    "# Problem 2\n",
    "# draw a box\n",
    "\n",
    "rows = int(input(\"Rows: \"))\n",
    "columns = int(input(\"Columns: \"))\n",
    "\n",
    "for n in range(rows):\n",
    "    if n == 0 or n == rows - 1:  # First and last row\n",
    "        if columns == 1:\n",
    "            print('+')  # No horizontal dashes if only 1 column\n",
    "        else:\n",
    "            print('+ ' + '- ' * max(columns - 2, 0) + '+')\n",
    "    else:  # Middle rows\n",
    "        if columns == 1:\n",
    "            print('|')  # Only a single vertical bar if 1 column\n",
    "        else:\n",
    "            print('| ' + '  ' * max(columns - 2, 0) + '|')\n"
   ]
  },
  {
   "cell_type": "code",
   "execution_count": null,
   "id": "99c93c68-0cf9-4254-b4c0-c9133553da37",
   "metadata": {},
   "outputs": [],
   "source": []
  }
 ],
 "metadata": {
  "kernelspec": {
   "display_name": "Python 3 (ipykernel)",
   "language": "python",
   "name": "python3"
  },
  "language_info": {
   "codemirror_mode": {
    "name": "ipython",
    "version": 3
   },
   "file_extension": ".py",
   "mimetype": "text/x-python",
   "name": "python",
   "nbconvert_exporter": "python",
   "pygments_lexer": "ipython3",
   "version": "3.12.7"
  }
 },
 "nbformat": 4,
 "nbformat_minor": 5
}
