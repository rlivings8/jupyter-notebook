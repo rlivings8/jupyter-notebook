{
 "cells": [
  {
   "cell_type": "code",
   "execution_count": 30,
   "id": "6ee6ee78-1ccb-44b3-a96a-2fd1128152bd",
   "metadata": {},
   "outputs": [
    {
     "name": "stdin",
     "output_type": "stream",
     "text": [
      "Enter number (enter 0 to stop):  4\n",
      "Enter number (enter 0 to stop):  5\n",
      "Enter number (enter 0 to stop):  10\n",
      "Enter number (enter 0 to stop):  -6\n",
      "Enter number (enter 0 to stop):  0\n"
     ]
    },
    {
     "name": "stdout",
     "output_type": "stream",
     "text": [
      "Average: 6.33, Maximum: 10.00\n"
     ]
    }
   ],
   "source": [
    "# 1.(50%) Please write a Python function that allows the user to enter a varying number of floating-point values \n",
    "# (the user provides one number at a time), and keeps track of the average and the maximum of the positive values entered. \n",
    "# Any nonpositive input values are ignored and not used in the computations. \n",
    "# The function terminates user's input when a zero is provided, and then returns the average and the maximum. \n",
    "# If no positive values are provided, the function returns a None. \n",
    "# In addition to the function, please write codes to test your function.\n",
    "\n",
    "def avg_max_values():\n",
    "    values=[]\n",
    "    \n",
    "    while True:\n",
    "        num = float(input(\"Enter number (enter 0 to stop): \"))\n",
    "        if num == 0:\n",
    "            break\n",
    "        elif num > 0:\n",
    "            values.append(num)\n",
    "    if values: \n",
    "        avg = sum(values) / len(values)\n",
    "        max_val = max(values)\n",
    "        return avg, max_val\n",
    "    else:\n",
    "        return None\n",
    "    # Run the function and store the result\n",
    "result = avg_max_values()\n",
    "\n",
    "# Check the result and print output\n",
    "if result:\n",
    "    print(f\"Average: {result[0]:.2f}, Maximum: {result[1]:.2f}\")\n",
    "else:\n",
    "    print(\"No positive numbers entered.\")\n"
   ]
  },
  {
   "cell_type": "code",
   "execution_count": 55,
   "id": "0226b017-4bd6-493b-83c6-ffc9bc83192a",
   "metadata": {},
   "outputs": [
    {
     "name": "stdin",
     "output_type": "stream",
     "text": [
      "Sideways Tree Levels:  10\n"
     ]
    },
    {
     "name": "stdout",
     "output_type": "stream",
     "text": [
      "         *\n",
      "        *@\n",
      "       *@*\n",
      "      *@*@\n",
      "     *@*@*\n",
      "    *@*@*@\n",
      "   *@*@*@*\n",
      "  *@*@*@*@\n",
      " *@*@*@*@*\n",
      "*@*@*@*@*@\n",
      " *@*@*@*@*\n",
      "  *@*@*@*@\n",
      "   *@*@*@*\n",
      "    *@*@*@\n",
      "     *@*@*\n",
      "      *@*@\n",
      "       *@*\n",
      "        *@\n",
      "         *\n"
     ]
    }
   ],
   "source": [
    "# 2. (50%). Please write a Python function to draw a sideway tree pointing left.\n",
    "# The function takes as input a parameter (positive integer), level, which determines the height of the tree. \n",
    "# The default value of level is 5. Some example trees are shown as follows (note that the level can be an arbitrary positive number). \n",
    "# In addition to the function, please write some codes to test your function.\n",
    "\n",
    "def tree(level):\n",
    "    width = level\n",
    "    # Print the ascending part\n",
    "    for i in range(1, level + 1):\n",
    "        row = \"\".join(\"*@\"[j % 2] for j in range(i)) \n",
    "        print(row.rjust(width))\n",
    "    \n",
    "    # Print the descending part\n",
    "    for i in range(level - 1, 0, -1):\n",
    "        row = \"\".join(\"*@\"[j % 2] for j in range(i)) \n",
    "        print(row.rjust(width))\n",
    "\n",
    "n = int(input(\"Sideways Tree Levels: \"))\n",
    "\n",
    "tree(n)\n"
   ]
  },
  {
   "cell_type": "code",
   "execution_count": null,
   "id": "fed93050-804f-4681-88bc-ce0045eeec00",
   "metadata": {},
   "outputs": [],
   "source": []
  }
 ],
 "metadata": {
  "kernelspec": {
   "display_name": "Python 3 (ipykernel)",
   "language": "python",
   "name": "python3"
  },
  "language_info": {
   "codemirror_mode": {
    "name": "ipython",
    "version": 3
   },
   "file_extension": ".py",
   "mimetype": "text/x-python",
   "name": "python",
   "nbconvert_exporter": "python",
   "pygments_lexer": "ipython3",
   "version": "3.12.7"
  }
 },
 "nbformat": 4,
 "nbformat_minor": 5
}
